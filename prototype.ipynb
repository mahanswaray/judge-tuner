{
 "cells": [
  {
   "cell_type": "code",
   "execution_count": 1,
   "metadata": {},
   "outputs": [
    {
     "name": "stdout",
     "output_type": "stream",
     "text": [
      "Logged in as Weights & Biases user: swarajraibagi.\n",
      "View Weave data at https://wandb.ai/swarajraibagi/together-weave/weave\n",
      "🍩 https://wandb.ai/swarajraibagi/together-weave/r/call/0192171f-a47e-7cc1-93f9-866f8bdcf13d\n",
      "Model response:\n",
      "  San Francisco is a vibrant and diverse city located on the northern tip of the San Francisco Peninsula in California, United States. Known for its iconic Golden Gate Bridge, the city is a melting pot of cultures, with a rich history and a modern, innovative spirit.\n",
      "\n",
      "The city's population is approximately 883,305 people, making it the fourth most populous city in California. San Francisco is famous for its steep hills, which are a defining feature of the city's landscape. The city's topography created by the surrounding mountains has made it a natural fortress, which historically protected it from invasions.\n",
      "\n",
      "San Francisco boasts a substantial number of attractions and landmarks that make it an attractive destination for both tourists and locals. The most famous of these is, of course, the Golden Gate Bridge, an Art Deco suspension bridge that was completed in 1937 and has become a symbol of the city and San Francisco. The bridge, which spans the Golden Gate Strait, connects San Francisco to Marin County and offers stunning views of the city and the surrounding landscape.\n",
      "\n",
      "Another must-see landmark is Fisherman's Wharf, a bustling waterfront area that has been a popular tourist destination for decades. The area is home to a variety of attractions, including Pier 39, a lively boardwalk where visitors can enjoy sea lion watching, shopping, and dining. Further along the waterfront, the iconic Cliff House restaurant offers breathtaking views of the Golden Gate Bridge and the San Francisco Bay.\n",
      "\n",
      "The city also has an extensive public transportation system that includes the Muni Metro, a light rail system that connects various neighborhoods. Bicycles are also a popular mode of transportation, with numerous bike lanes and bike-sharing programs throughout the city.\n",
      "\n",
      "San Francisco's culture is a vibrant mix of art, music, and food, with numerous art galleries, museums, and theaters showcasing the city's rich artistic heritage. The city's diverse culinary scene offers a range of cuisines from around the world, thanks to its large immigrant population.\n",
      "\n",
      "The city's history is rich and varied, with numerous historical landmarks and buildings that have stood the test of time. The Cable Cars, one of the last manually operated cable car systems in the world, have been a part of San Francisco's transportation system since the late 19th century. The cable cars are a nostalgic reminder of the city's colorful past, and visitors can ride them for a unique perspective of the city.\n",
      "\n",
      "Some of San Francisco's most historically significant landmarks include Alcatraz Island, the former maximum-security prison now a popular tourist attraction; the Mission Dolores, the oldest preserved structure in the city; and the Victorian homes of Painted Ladies, which line steep streets like Alamo Square.\n",
      "\n",
      "For those seeking to experience the city's natural beauty, the city's parks offer a tranquil escape from the urban environment. Some notable parks include Golden Gate Park, a sprawling urban oasis that features the Japanese Tea Garden, Stow Lake, and the California Academy of Sciences; Lands End, a scenic lookout that offers breathtaking views of the Pacific Ocean, the Golden Gate Bridge, and the city skyline; and San Francisco's maritime heritage is celebrated at the San Francisco Maritime National Historical Park, which features restored ships and a visitor center.\n",
      "\n",
      "San Francisco is also a hub for technology and innovation, with Silicon Valley located just a short drive away. The city is home to numerous startups and tech companies, making it a magnetic destination for entrepreneurs, investors, and those interested in the latest tech developments.\n",
      "\n",
      "In conclusion, San Francisco is a city of contrasts, combining a rich history and cultural diversity with its stunning natural beauty and innovative spirit. Whether you're exploring its iconic landmarks, enjoying its vibrant culinary scene, or immersing yourself in its arts and culture, San Francisco offers an unforgettable experience that captures the essence of the American West Coast.\n"
     ]
    }
   ],
   "source": [
    "import os\n",
    "import openai\n",
    "import weave\n",
    "weave.init('together-weave')\n"
   ]
  },
  {
   "cell_type": "code",
   "execution_count": null,
   "metadata": {},
   "outputs": [],
   "source": [
    "\n",
    "\n",
    "system_content = \"You are a travel agent. Be descriptive and helpful.\"\n",
    "user_content = \"Tell me about San Francisco\"\n",
    "\n",
    "client = openai.OpenAI(\n",
    "    api_key=os.getenv(\"OPENROUTER_API_KEY\"),\n",
    "    base_url=os.getenv(\"OPENROUTER_BASE_URL\"),\n",
    ")\n",
    "chat_completion = client.chat.completions.create(\n",
    "    model=\"microsoft/phi-3-mini-128k-instruct:free\",\n",
    "    messages=[\n",
    "        {\"role\": \"system\", \"content\": system_content},\n",
    "        {\"role\": \"user\", \"content\": user_content},\n",
    "    ],\n",
    "    temperature=0.7,\n",
    "    max_tokens=1024,\n",
    ")\n",
    "response = chat_completion.choices[0].message.content\n",
    "print(\"Model response:\\n\", response)"
   ]
  },
  {
   "cell_type": "code",
   "execution_count": 2,
   "metadata": {},
   "outputs": [
    {
     "name": "stdout",
     "output_type": "stream",
     "text": [
      "🍩 https://wandb.ai/swarajraibagi/together-weave/r/call/0192171e-5419-7ba3-91df-920024e18a87\n"
     ]
    },
    {
     "data": {
      "text/plain": [
       "ChatCompletion(id='gen-RJeYRHKoRd4JoscMXkbCiuokPjsH', choices=[Choice(finish_reason='length', index=0, logprobs=None, message=ChatCompletionMessage(content=\"San Francisco is a vibrant and diverse city located in Northern California, known for its iconic landmarks, rich history, and dynamic culture. It’s a city that packs a lot into its compact 49 square miles, offering something for every type of traveler. Let me walk you through some of its highlights:\\n\\n### **1. Iconic Landmarks:**\\n- **Golden Gate Bridge**: This world-famous suspension bridge, with its striking International Orange color, is one of the most photographed landmarks in the world. You can walk or bike across it for stunning views of the bay and the city skyline.\\n- **Alcatraz Island**: Once a notorious federal prison, Alcatraz is now a popular tourist destination. A ferry ride takes you to the island where you can explore the prison and learn about its infamous inmates, including Al Capone. The audio tour is highly recommended for an immersive experience.\\n- **Pier 39 & Fisherman’s Wharf**: A bustling waterfront area with seafood restaurants, street performers, shops, and attractions like the Aquarium of the Bay. Don’t miss the colony of sea lions that sunbathe on the docks at Pier 39.\\n\\n### **2. Neighborhoods:**\\n- **Chinatown**: The oldest and one of the largest Chinatowns outside of Asia, this neighborhood is brimming with vibrant markets, traditional Chinese architecture, and delicious dim sum restaurants. The Dragon Gate at the entrance is a popular photo spot.\\n- **Haight-Ashbury**: Known as the birthplace of the 1960s counterculture movement, this neighborhood still retains its bohemian spirit. Here, you'll find vintage shops, quirky cafés, and colorful murals.\\n- **Mission District**: This lively area is famous for its street art, particularly the murals in Balmy Alley, and its fantastic Mexican cuisine. Mission Dolores Park offers a great spot to relax with views of the city skyline.\\n\\n### **3. Natural Beauty:**\\n- **Golden Gate Park**: Larger than Central Park in New York, Golden Gate Park is full of hidden gems. Visit the Japanese Tea Garden, explore the California Academy of Sciences, or take a peaceful walk around Stow Lake. The park also hosts numerous festivals and events throughout the year.\\n- **Twin Peaks**: For the best panoramic views of San Francisco, head to Twin Peaks. Two hills located near the center of the city, they offer sweeping views of the downtown skyline, the Bay, and beyond.\\n- **Lands End**: A rugged coastal trail that offers breathtaking ocean views and leads to the ruins of the Sutro Baths. It’s a great spot for a scenic hike with views of the Golden Gate Bridge and the Pacific Ocean.\\n\\n### **4. Culture and Museums:**\\n- **San Francisco Museum of Modern Art (SFMOMA)**: One of the largest modern and contemporary art museums in the country, SFMOMA hosts an impressive collection of works by artists like Warhol, Rothko, and Matisse.\\n- **The Exploratorium**: This science and technology museum is incredibly interactive and fun for both kids and adults. It’s located along the Embarcadero, with plenty of hands-on exhibits that make learning about science an adventure.\\n- **Palace of Fine Arts**: Originally built for the 1915 Panama-Pacific Exposition, this stunning Greco-Roman inspired structure is a peaceful spot to relax by the lagoon. It’s also a popular wedding and event venue.\\n\\n### **5. Culinary Scene:**\\nSan Francisco’s food scene is world-renowned, influenced by its diverse population and proximity to fresh, local ingredients.\\n- **Seafood**: Be sure to try clam chowder in a sourdough bread bowl or fresh Dungeness crab at Fisherman’s Wharf.\\n- **Fine Dining**: The city boasts Michelin-starred restaurants like **Atelier Crenn** and **Benu**, which offer unforgettable dining experiences.\\n- **International Cuisine**: From dim sum in Chinatown to burritos in the Mission District, San Francisco is a melting pot of global flavors. Don't miss out on the city's famous **Mission-style burritos**, known for being extra large and packed with delicious fillings.\\n\\n### **6. Weather:**\\nSan Francisco’s weather is famously unpredictable. Summer months can be surprisingly cool due to the city’s fog (locally known as “Karl the Fog”), while fall is often the warmest time of year. It’s always a good idea to dress in layers so you can adjust to rapidly changing conditions, especially if you're near the water where it can get windy.\\n\\n### **7. Public Transportation:**\\nSan Francisco is a compact city, and one of the best ways to get around is via its public transportation system, which includes buses, streetcars, and the iconic **cable cars**. The cable cars are not just practical but also a quintessential San Francisco experience, offering a fun way to travel up and down the city’s famously steep streets.\\n\\n### **8. Day Trips:**\\n- **Muir Woods**: Located just across the Golden Gate\", refusal='', role='assistant', function_call=None, tool_calls=None))], created=1726964717, model='openai/chatgpt-4o-latest', object='chat.completion', service_tier=None, system_fingerprint='fp_4a504e8322', usage=CompletionUsage(completion_tokens=1024, prompt_tokens=27, total_tokens=1051, completion_tokens_details=None))"
      ]
     },
     "execution_count": 2,
     "metadata": {},
     "output_type": "execute_result"
    }
   ],
   "source": [
    "def make_open_ai_request(model, messages, temperature=0.7, max_tokens=1024):\n",
    "    client = openai.OpenAI(\n",
    "        api_key=os.getenv(\"OPENROUTER_API_KEY\"),\n",
    "        base_url=os.getenv(\"OPENROUTER_BASE_URL\"),\n",
    "    )\n",
    "    for attempt in range(3):\n",
    "        try:\n",
    "            chat_completion = client.chat.completions.create(\n",
    "                model=model,\n",
    "                messages=messages,\n",
    "                temperature=temperature,\n",
    "                max_tokens=max_tokens,\n",
    "            )\n",
    "            return chat_completion\n",
    "        except Exception as e:\n",
    "            if attempt == 2:  # Last attempt\n",
    "                raise\n",
    "            print(f\"Attempt {attempt + 1} failed. Retrying...\")\n",
    "    raise Exception(\"Failed to make OpenAI request after 3 attempts\")\n",
    "\n",
    "make_open_ai_request(\n",
    "    model='openai/chatgpt-4o-latest',\n",
    "    messages=[\n",
    "        {\"role\": \"system\", \"content\": system_content},\n",
    "        {\"role\": \"user\", \"content\": user_content},\n",
    "    ],\n",
    ")"
   ]
  },
  {
   "cell_type": "code",
   "execution_count": 2,
   "metadata": {},
   "outputs": [],
   "source": [
    "from src.evaluation_suite_setup import EvaluationSuiteSetupConfig, SetupExample\n",
    "\n",
    "\n",
    "example_setup = EvaluationSuiteSetupConfig(\n",
    "    system_prompt=\"\"\"You are a customer support agent tasked with writing the first response to a user filing a support issue. Follow these guidelines:\n",
    "\n",
    "For content, begin with a warm greeting and thank the user for reaching out and acknowledge the issue they've reported.\n",
    "\n",
    "For format, limit the response to 1 short paragraph.\n",
    "\n",
    "For tone, maintain a professional yet friendly tone throughout.\n",
    "\n",
    "Use the user's name if provided in their inquiry.\n",
    "\n",
    "For additional rules, do not provide specific solutions in this first response.\n",
    "Always end with an open-ended question to encourage further dialogue.\n",
    "\"\"\",\n",
    "    examples=[\n",
    "        SetupExample(\n",
    "            input=\"My shipment is delayed and I need it urgently.\",\n",
    "            output=\"Hello [User], Thank you for contacting our support team regarding your delayed shipment. I understand that this delay is causing you concern, especially given the urgency of your need. I sincerely apologize for any inconvenience this may be causing you. I want to assure you that I'm here to help and will do my best to address this situation as quickly as possible. Your satisfaction is important to us, and we take shipping delays very seriously. To better assist you, could you please provide me with your order number and the expected delivery date that was originally given to you? This information will help me investigate the status of your shipment more effectively.\"),\n",
    "    ]\n",
    ")\n"
   ]
  },
  {
   "cell_type": "code",
   "execution_count": 3,
   "metadata": {},
   "outputs": [
    {
     "name": "stdout",
     "output_type": "stream",
     "text": [
      "🍩 https://wandb.ai/swarajraibagi/together-weave/r/call/0192171f-e9f2-7481-8c1b-8e58dfd03a91\n",
      "suite_description='The task is to generate an initial response to a customer support inquiry. The response must include a warm greeting, acknowledgment of the issue, and an open-ended question for further engagement. The response should be professionally friendly, concise, and should not offer specific solutions in this initial message.' evaluation_criteria=[EvaluationCriteria(criterion='Warm Greeting', explaination='The response should start with a warm greeting to make the customer feel valued and acknowledged.', evaluation_method='llm'), EvaluationCriteria(criterion='Acknowledgement of the Issue', explaination=\"Clearly acknowledging the customer's issue shows empathy and assures the customer that their concern is being taken seriously.\", evaluation_method='llm'), EvaluationCriteria(criterion='Professional and Friendly Tone', explaination='A professional yet friendly tone is essential to ensure the customer feels comfortable and respected.', evaluation_method='llm'), EvaluationCriteria(criterion='Conciseness', explaination='The response should be limited to one short paragraph, making it straightforward and easy to read.', evaluation_method='code'), EvaluationCriteria(criterion='Omission of Specific Solutions', explaination='Specific solutions should not be provided in the first response to encourage further dialogue and information gathering.', evaluation_method='llm'), EvaluationCriteria(criterion='Open-ended Question', explaination='Ending with an open-ended question encourages the customer to provide more information, keeping the conversation active.', evaluation_method='llm')] data_generation_scenarios=[DataGenerationScenarios(scenarios_based_on=\"User's Issue Type\", scenarios=['Shipping delay', 'Product issue', 'Billing error', 'Account support']), DataGenerationScenarios(scenarios_based_on=\"User's Information Availability\", scenarios=['User provides name', 'User does not provide name'])]\n"
     ]
    }
   ],
   "source": [
    "from src.parse_setup import parse_setup\n",
    "\n",
    "parsed_setup = parse_setup(example_setup)\n",
    "print(parsed_setup)"
   ]
  },
  {
   "cell_type": "code",
   "execution_count": 4,
   "metadata": {},
   "outputs": [
    {
     "data": {
      "text/plain": [
       "{'suite_description': 'The task is to generate an initial response to a customer support inquiry. The response must include a warm greeting, acknowledgment of the issue, and an open-ended question for further engagement. The response should be professionally friendly, concise, and should not offer specific solutions in this initial message.',\n",
       " 'evaluation_criteria': [{'criterion': 'Warm Greeting',\n",
       "   'explaination': 'The response should start with a warm greeting to make the customer feel valued and acknowledged.',\n",
       "   'evaluation_method': 'llm'},\n",
       "  {'criterion': 'Acknowledgement of the Issue',\n",
       "   'explaination': \"Clearly acknowledging the customer's issue shows empathy and assures the customer that their concern is being taken seriously.\",\n",
       "   'evaluation_method': 'llm'},\n",
       "  {'criterion': 'Professional and Friendly Tone',\n",
       "   'explaination': 'A professional yet friendly tone is essential to ensure the customer feels comfortable and respected.',\n",
       "   'evaluation_method': 'llm'},\n",
       "  {'criterion': 'Conciseness',\n",
       "   'explaination': 'The response should be limited to one short paragraph, making it straightforward and easy to read.',\n",
       "   'evaluation_method': 'code'},\n",
       "  {'criterion': 'Omission of Specific Solutions',\n",
       "   'explaination': 'Specific solutions should not be provided in the first response to encourage further dialogue and information gathering.',\n",
       "   'evaluation_method': 'llm'},\n",
       "  {'criterion': 'Open-ended Question',\n",
       "   'explaination': 'Ending with an open-ended question encourages the customer to provide more information, keeping the conversation active.',\n",
       "   'evaluation_method': 'llm'}],\n",
       " 'data_generation_scenarios': [{'scenarios_based_on': \"User's Issue Type\",\n",
       "   'scenarios': ['Shipping delay',\n",
       "    'Product issue',\n",
       "    'Billing error',\n",
       "    'Account support']},\n",
       "  {'scenarios_based_on': \"User's Information Availability\",\n",
       "   'scenarios': ['User provides name', 'User does not provide name']}]}"
      ]
     },
     "execution_count": 4,
     "metadata": {},
     "output_type": "execute_result"
    }
   ],
   "source": []
  },
  {
   "cell_type": "code",
   "execution_count": null,
   "metadata": {},
   "outputs": [],
   "source": []
  }
 ],
 "metadata": {
  "kernelspec": {
   "display_name": ".venv",
   "language": "python",
   "name": "python3"
  },
  "language_info": {
   "codemirror_mode": {
    "name": "ipython",
    "version": 3
   },
   "file_extension": ".py",
   "mimetype": "text/x-python",
   "name": "python",
   "nbconvert_exporter": "python",
   "pygments_lexer": "ipython3",
   "version": "3.12.5"
  }
 },
 "nbformat": 4,
 "nbformat_minor": 2
}
